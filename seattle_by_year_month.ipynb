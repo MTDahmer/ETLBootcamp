{
 "cells": [
  {
   "cell_type": "code",
   "execution_count": 1,
   "metadata": {},
   "outputs": [],
   "source": [
    "import pandas as pd\n",
    "from sqlalchemy import create_engine"
   ]
  },
  {
   "cell_type": "code",
   "execution_count": 2,
   "metadata": {},
   "outputs": [],
   "source": [
    "seattle_file = \"AirBnB Cities/Seattle/seattle.csv\""
   ]
  },
  {
   "cell_type": "code",
   "execution_count": 4,
   "metadata": {},
   "outputs": [
    {
     "data": {
      "text/html": [
       "<div>\n",
       "<style scoped>\n",
       "    .dataframe tbody tr th:only-of-type {\n",
       "        vertical-align: middle;\n",
       "    }\n",
       "\n",
       "    .dataframe tbody tr th {\n",
       "        vertical-align: top;\n",
       "    }\n",
       "\n",
       "    .dataframe thead th {\n",
       "        text-align: right;\n",
       "    }\n",
       "</style>\n",
       "<table border=\"1\" class=\"dataframe\">\n",
       "  <thead>\n",
       "    <tr style=\"text-align: right;\">\n",
       "      <th></th>\n",
       "      <th>listing_id</th>\n",
       "      <th>date</th>\n",
       "      <th>available</th>\n",
       "      <th>price</th>\n",
       "      <th>adjusted_price</th>\n",
       "      <th>minimum_nights</th>\n",
       "      <th>maximum_nights</th>\n",
       "    </tr>\n",
       "  </thead>\n",
       "  <tbody>\n",
       "    <tr>\n",
       "      <th>0</th>\n",
       "      <td>493591</td>\n",
       "      <td>2019-02-09</td>\n",
       "      <td>f</td>\n",
       "      <td>$53.00</td>\n",
       "      <td>$53.00</td>\n",
       "      <td>2</td>\n",
       "      <td>180</td>\n",
       "    </tr>\n",
       "    <tr>\n",
       "      <th>1</th>\n",
       "      <td>493591</td>\n",
       "      <td>2019-02-10</td>\n",
       "      <td>f</td>\n",
       "      <td>$53.00</td>\n",
       "      <td>$53.00</td>\n",
       "      <td>2</td>\n",
       "      <td>180</td>\n",
       "    </tr>\n",
       "    <tr>\n",
       "      <th>2</th>\n",
       "      <td>493591</td>\n",
       "      <td>2019-02-11</td>\n",
       "      <td>t</td>\n",
       "      <td>$53.00</td>\n",
       "      <td>$53.00</td>\n",
       "      <td>2</td>\n",
       "      <td>180</td>\n",
       "    </tr>\n",
       "    <tr>\n",
       "      <th>3</th>\n",
       "      <td>493591</td>\n",
       "      <td>2019-02-12</td>\n",
       "      <td>t</td>\n",
       "      <td>$53.00</td>\n",
       "      <td>$53.00</td>\n",
       "      <td>2</td>\n",
       "      <td>180</td>\n",
       "    </tr>\n",
       "    <tr>\n",
       "      <th>4</th>\n",
       "      <td>493591</td>\n",
       "      <td>2019-02-13</td>\n",
       "      <td>t</td>\n",
       "      <td>$53.00</td>\n",
       "      <td>$53.00</td>\n",
       "      <td>2</td>\n",
       "      <td>180</td>\n",
       "    </tr>\n",
       "  </tbody>\n",
       "</table>\n",
       "</div>"
      ],
      "text/plain": [
       "   listing_id        date available   price adjusted_price  minimum_nights  \\\n",
       "0      493591  2019-02-09         f  $53.00         $53.00               2   \n",
       "1      493591  2019-02-10         f  $53.00         $53.00               2   \n",
       "2      493591  2019-02-11         t  $53.00         $53.00               2   \n",
       "3      493591  2019-02-12         t  $53.00         $53.00               2   \n",
       "4      493591  2019-02-13         t  $53.00         $53.00               2   \n",
       "\n",
       "   maximum_nights  \n",
       "0             180  \n",
       "1             180  \n",
       "2             180  \n",
       "3             180  \n",
       "4             180  "
      ]
     },
     "execution_count": 4,
     "metadata": {},
     "output_type": "execute_result"
    }
   ],
   "source": [
    "seattle_df = pd.read_csv(seattle_file)\n",
    "seattle_df.head()"
   ]
  },
  {
   "cell_type": "code",
   "execution_count": 6,
   "metadata": {},
   "outputs": [
    {
     "data": {
      "text/plain": [
       "3087535"
      ]
     },
     "execution_count": 6,
     "metadata": {},
     "output_type": "execute_result"
    }
   ],
   "source": [
    "len(seattle_df)"
   ]
  },
  {
   "cell_type": "code",
   "execution_count": 9,
   "metadata": {},
   "outputs": [
    {
     "data": {
      "text/plain": [
       "'2020-02-08'"
      ]
     },
     "execution_count": 9,
     "metadata": {},
     "output_type": "execute_result"
    }
   ],
   "source": [
    "seattle_df.date.max()"
   ]
  },
  {
   "cell_type": "code",
   "execution_count": 11,
   "metadata": {},
   "outputs": [
    {
     "data": {
      "text/plain": [
       "'2019-02-09'"
      ]
     },
     "execution_count": 11,
     "metadata": {},
     "output_type": "execute_result"
    }
   ],
   "source": [
    "seattle_df.date.min()"
   ]
  },
  {
   "cell_type": "code",
   "execution_count": 15,
   "metadata": {},
   "outputs": [
    {
     "data": {
      "text/plain": [
       "listing_id         int64\n",
       "date              object\n",
       "available         object\n",
       "price             object\n",
       "adjusted_price    object\n",
       "minimum_nights     int64\n",
       "maximum_nights     int64\n",
       "dtype: object"
      ]
     },
     "execution_count": 15,
     "metadata": {},
     "output_type": "execute_result"
    }
   ],
   "source": [
    "seattle_df.dtypes"
   ]
  },
  {
   "cell_type": "code",
   "execution_count": 16,
   "metadata": {},
   "outputs": [],
   "source": [
    "seattle_df['date'] = pd.to_datetime(seattle_df['date'])"
   ]
  },
  {
   "cell_type": "code",
   "execution_count": 17,
   "metadata": {},
   "outputs": [
    {
     "data": {
      "text/plain": [
       "listing_id                 int64\n",
       "date              datetime64[ns]\n",
       "available                 object\n",
       "price                     object\n",
       "adjusted_price            object\n",
       "minimum_nights             int64\n",
       "maximum_nights             int64\n",
       "dtype: object"
      ]
     },
     "execution_count": 17,
     "metadata": {},
     "output_type": "execute_result"
    }
   ],
   "source": [
    "seattle_df.dtypes"
   ]
  },
  {
   "cell_type": "code",
   "execution_count": 18,
   "metadata": {},
   "outputs": [],
   "source": [
    "seattle_df['YEAR'] = seattle_df['date'].dt.year\n",
    "seattle_df['MONTH'] = seattle_df['date'].dt.month"
   ]
  },
  {
   "cell_type": "code",
   "execution_count": 19,
   "metadata": {},
   "outputs": [
    {
     "data": {
      "text/html": [
       "<div>\n",
       "<style scoped>\n",
       "    .dataframe tbody tr th:only-of-type {\n",
       "        vertical-align: middle;\n",
       "    }\n",
       "\n",
       "    .dataframe tbody tr th {\n",
       "        vertical-align: top;\n",
       "    }\n",
       "\n",
       "    .dataframe thead th {\n",
       "        text-align: right;\n",
       "    }\n",
       "</style>\n",
       "<table border=\"1\" class=\"dataframe\">\n",
       "  <thead>\n",
       "    <tr style=\"text-align: right;\">\n",
       "      <th></th>\n",
       "      <th>listing_id</th>\n",
       "      <th>date</th>\n",
       "      <th>available</th>\n",
       "      <th>price</th>\n",
       "      <th>adjusted_price</th>\n",
       "      <th>minimum_nights</th>\n",
       "      <th>maximum_nights</th>\n",
       "      <th>YEAR</th>\n",
       "      <th>MONTH</th>\n",
       "    </tr>\n",
       "  </thead>\n",
       "  <tbody>\n",
       "    <tr>\n",
       "      <th>0</th>\n",
       "      <td>493591</td>\n",
       "      <td>2019-02-09</td>\n",
       "      <td>f</td>\n",
       "      <td>$53.00</td>\n",
       "      <td>$53.00</td>\n",
       "      <td>2</td>\n",
       "      <td>180</td>\n",
       "      <td>2019</td>\n",
       "      <td>2</td>\n",
       "    </tr>\n",
       "    <tr>\n",
       "      <th>1</th>\n",
       "      <td>493591</td>\n",
       "      <td>2019-02-10</td>\n",
       "      <td>f</td>\n",
       "      <td>$53.00</td>\n",
       "      <td>$53.00</td>\n",
       "      <td>2</td>\n",
       "      <td>180</td>\n",
       "      <td>2019</td>\n",
       "      <td>2</td>\n",
       "    </tr>\n",
       "    <tr>\n",
       "      <th>2</th>\n",
       "      <td>493591</td>\n",
       "      <td>2019-02-11</td>\n",
       "      <td>t</td>\n",
       "      <td>$53.00</td>\n",
       "      <td>$53.00</td>\n",
       "      <td>2</td>\n",
       "      <td>180</td>\n",
       "      <td>2019</td>\n",
       "      <td>2</td>\n",
       "    </tr>\n",
       "    <tr>\n",
       "      <th>3</th>\n",
       "      <td>493591</td>\n",
       "      <td>2019-02-12</td>\n",
       "      <td>t</td>\n",
       "      <td>$53.00</td>\n",
       "      <td>$53.00</td>\n",
       "      <td>2</td>\n",
       "      <td>180</td>\n",
       "      <td>2019</td>\n",
       "      <td>2</td>\n",
       "    </tr>\n",
       "    <tr>\n",
       "      <th>4</th>\n",
       "      <td>493591</td>\n",
       "      <td>2019-02-13</td>\n",
       "      <td>t</td>\n",
       "      <td>$53.00</td>\n",
       "      <td>$53.00</td>\n",
       "      <td>2</td>\n",
       "      <td>180</td>\n",
       "      <td>2019</td>\n",
       "      <td>2</td>\n",
       "    </tr>\n",
       "  </tbody>\n",
       "</table>\n",
       "</div>"
      ],
      "text/plain": [
       "   listing_id       date available   price adjusted_price  minimum_nights  \\\n",
       "0      493591 2019-02-09         f  $53.00         $53.00               2   \n",
       "1      493591 2019-02-10         f  $53.00         $53.00               2   \n",
       "2      493591 2019-02-11         t  $53.00         $53.00               2   \n",
       "3      493591 2019-02-12         t  $53.00         $53.00               2   \n",
       "4      493591 2019-02-13         t  $53.00         $53.00               2   \n",
       "\n",
       "   maximum_nights  YEAR  MONTH  \n",
       "0             180  2019      2  \n",
       "1             180  2019      2  \n",
       "2             180  2019      2  \n",
       "3             180  2019      2  \n",
       "4             180  2019      2  "
      ]
     },
     "execution_count": 19,
     "metadata": {},
     "output_type": "execute_result"
    }
   ],
   "source": [
    "seattle_df.head()"
   ]
  },
  {
   "cell_type": "code",
   "execution_count": null,
   "metadata": {},
   "outputs": [],
   "source": []
  }
 ],
 "metadata": {
  "kernelspec": {
   "display_name": "Python 3",
   "language": "python",
   "name": "python3"
  },
  "language_info": {
   "codemirror_mode": {
    "name": "ipython",
    "version": 3
   },
   "file_extension": ".py",
   "mimetype": "text/x-python",
   "name": "python",
   "nbconvert_exporter": "python",
   "pygments_lexer": "ipython3",
   "version": "3.7.3"
  }
 },
 "nbformat": 4,
 "nbformat_minor": 2
}
