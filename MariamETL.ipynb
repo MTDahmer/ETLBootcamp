{
 "cells": [
  {
   "cell_type": "code",
   "execution_count": 78,
   "metadata": {},
   "outputs": [],
   "source": [
    "import matplotlib.pyplot as plt\n",
    "import pandas as pd\n",
    "import numpy as np\n",
    "import os\n",
    "import json\n",
    "import requests\n",
    "import time\n",
    "import datetime\n"
   ]
  },
  {
   "cell_type": "markdown",
   "metadata": {},
   "source": [
    "# Time Conversion "
   ]
  },
  {
   "cell_type": "code",
   "execution_count": 79,
   "metadata": {},
   "outputs": [],
   "source": [
    "from datetime import datetime"
   ]
  },
  {
   "cell_type": "code",
   "execution_count": 80,
   "metadata": {},
   "outputs": [],
   "source": [
    "dt = datetime(2019, 5, 4)"
   ]
  },
  {
   "cell_type": "code",
   "execution_count": 81,
   "metadata": {},
   "outputs": [
    {
     "data": {
      "text/plain": [
       "1556946000.0"
      ]
     },
     "execution_count": 81,
     "metadata": {},
     "output_type": "execute_result"
    }
   ],
   "source": [
    "timestamp = dt.timestamp()\n",
    "timestamp\n"
   ]
  },
  {
   "cell_type": "code",
   "execution_count": 82,
   "metadata": {},
   "outputs": [
    {
     "data": {
      "text/plain": [
       "'Sat May  4 00:00:00 2019'"
      ]
     },
     "execution_count": 82,
     "metadata": {},
     "output_type": "execute_result"
    }
   ],
   "source": [
    "time.ctime(int(\"1556946000\"))\n"
   ]
  },
  {
   "cell_type": "code",
   "execution_count": 83,
   "metadata": {},
   "outputs": [
    {
     "data": {
      "text/plain": [
       "'Sat May  5 07:00:00 2018'"
      ]
     },
     "execution_count": 83,
     "metadata": {},
     "output_type": "execute_result"
    }
   ],
   "source": [
    "time.ctime(int(\"1525521600\"))"
   ]
  },
  {
   "cell_type": "markdown",
   "metadata": {},
   "source": [
    "# Annual Daily Data Loop \n"
   ]
  },
  {
   "cell_type": "code",
   "execution_count": 84,
   "metadata": {},
   "outputs": [],
   "source": [
    "days = [1525521600]\n",
    "\n",
    "count = 0\n",
    "\n",
    "for day in days:\n",
    "    \n",
    "    day = day + (24 * 60 * 60)\n",
    "    days.append(day)\n",
    "    \n",
    "    if count >=(363):\n",
    "        break\n",
    "        \n",
    "    count +=1"
   ]
  },
  {
   "cell_type": "code",
   "execution_count": 85,
   "metadata": {},
   "outputs": [
    {
     "data": {
      "text/plain": [
       "365"
      ]
     },
     "execution_count": 85,
     "metadata": {},
     "output_type": "execute_result"
    }
   ],
   "source": [
    "len(days)"
   ]
  },
  {
   "cell_type": "code",
   "execution_count": 86,
   "metadata": {},
   "outputs": [
    {
     "data": {
      "text/plain": [
       "1556971200"
      ]
     },
     "execution_count": 86,
     "metadata": {},
     "output_type": "execute_result"
    }
   ],
   "source": [
    "\n",
    "days[-1]"
   ]
  },
  {
   "cell_type": "code",
   "execution_count": 87,
   "metadata": {},
   "outputs": [
    {
     "data": {
      "text/plain": [
       "'Sun May  5 13:00:00 2019'"
      ]
     },
     "execution_count": 87,
     "metadata": {},
     "output_type": "execute_result"
    }
   ],
   "source": [
    "time.ctime(int(\"1557079200\"))"
   ]
  },
  {
   "cell_type": "code",
   "execution_count": 88,
   "metadata": {},
   "outputs": [
    {
     "data": {
      "text/plain": [
       "'05/04/19'"
      ]
     },
     "execution_count": 88,
     "metadata": {},
     "output_type": "execute_result"
    }
   ],
   "source": [
    "time.strftime(\"%D\", time.localtime(int(\"1556971200\")))\n"
   ]
  },
  {
   "cell_type": "markdown",
   "metadata": {},
   "source": [
    "# Darksky Query "
   ]
  },
  {
   "cell_type": "code",
   "execution_count": 99,
   "metadata": {},
   "outputs": [],
   "source": [
    "# Via right clicking dropped pin in Google Maps:\n",
    "# Cambridge lat: \"42.3736\"\n",
    "# Cambridge lon: \"71.1097\"\n",
    "# Austin lat: \"30.2672\"\n",
    "# Austin lon: \"97.7431\"\n",
    "day = \"1557079200\"\n",
    "cam_lat = \"42.3736\"\n",
    "cam_lng = \"71.1097\"\n",
    "\n",
    "aus_lat = \"30.2672\"\n",
    "aus_lng = \"97.7431\"\n",
    "\n",
    "key = \"ae0a24b6601761e0608b0935efd51468\"\n",
    "exclude = \"currently,flags,alerts,minutely,hourly\"\n",
    "units = \"us\"\n",
    "cam_url = f'https://api.darksky.net/forecast/{key}/{cam_lat},{cam_lng}'\n",
    "aus_url = f'https://api.darksky.net/forecast/{key}/{aus_lat},{aus_lng}'\n",
    "\n",
    "#query_url = f\"{url},{day}?exclude={exclude}?units={units}\"\n",
    " "
   ]
  },
  {
   "cell_type": "code",
   "execution_count": 100,
   "metadata": {},
   "outputs": [
    {
     "name": "stdout",
     "output_type": "stream",
     "text": [
      "{'latitude': 42.3736, 'longitude': 71.1097, 'timezone': 'Asia/Almaty', 'daily': {'data': [{'time': 1557079200, 'summary': 'Clear throughout the day.', 'icon': 'clear-day', 'sunriseTime': 1557101161, 'sunsetTime': 1557152457, 'moonPhase': 0.04, 'precipIntensity': 0, 'precipIntensityMax': 0, 'precipProbability': 0, 'temperatureHigh': 53.83, 'temperatureHighTime': 1557129600, 'temperatureLow': 32.71, 'temperatureLowTime': 1557183600, 'apparentTemperatureHigh': 53.83, 'apparentTemperatureHighTime': 1557129600, 'apparentTemperatureLow': 28.86, 'apparentTemperatureLowTime': 1557183600, 'dewPoint': 18.04, 'humidity': 0.4, 'pressure': 1017.96, 'windSpeed': 2.68, 'windGust': 7.51, 'windGustTime': 1557158400, 'windBearing': 85, 'cloudCover': 0, 'uvIndex': 9, 'uvIndexTime': 1557126000, 'visibility': 10, 'ozone': 333.73, 'temperatureMin': 28.91, 'temperatureMinTime': 1557097200, 'temperatureMax': 53.83, 'temperatureMaxTime': 1557129600, 'apparentTemperatureMin': 26.63, 'apparentTemperatureMinTime': 1557093600, 'apparentTemperatureMax': 53.83, 'apparentTemperatureMaxTime': 1557129600}]}, 'offset': 6}\n",
      "{'latitude': 30.2672, 'longitude': 97.7431, 'timezone': 'Asia/Shanghai', 'daily': {'data': [{'time': 1557072000, 'summary': 'Clear throughout the day.', 'icon': 'clear-day', 'sunriseTime': 1557096192, 'sunsetTime': 1557144642, 'moonPhase': 0.04, 'precipIntensity': 0, 'precipIntensityMax': 0.0002, 'precipIntensityMaxTime': 1557090000, 'precipProbability': 0, 'temperatureHigh': 56.75, 'temperatureHighTime': 1557126000, 'temperatureLow': 32.09, 'temperatureLowTime': 1557183600, 'apparentTemperatureHigh': 56.75, 'apparentTemperatureHighTime': 1557126000, 'apparentTemperatureLow': 29, 'apparentTemperatureLowTime': 1557183600, 'dewPoint': 25.51, 'humidity': 0.51, 'pressure': 1003.9, 'windSpeed': 9.8, 'windGust': 31.06, 'windGustTime': 1557129600, 'windBearing': 223, 'cloudCover': 0.1, 'uvIndex': 15, 'uvIndexTime': 1557118800, 'visibility': 7.82, 'ozone': 253.65, 'temperatureMin': 36.71, 'temperatureMinTime': 1557154800, 'temperatureMax': 56.75, 'temperatureMaxTime': 1557126000, 'apparentTemperatureMin': 30.98, 'apparentTemperatureMinTime': 1557154800, 'apparentTemperatureMax': 56.75, 'apparentTemperatureMaxTime': 1557126000}]}, 'offset': 8}\n"
     ]
    }
   ],
   "source": [
    "cam_response = requests.get(f\"{cam_url},{day}?exclude={exclude}?units={units}\").json()\n",
    "print(cam_response)\n",
    "\n",
    "cam_data = cam_response['daily']['data'][0]\n",
    "\n",
    "cam = {**cam_response, **cam_data}\n",
    "\n",
    "\n",
    "\n",
    "aus_response = requests.get(f\"{aus_url},{day}?exclude={exclude}?units={units}\").json()\n",
    "print(aus_response)\n",
    "\n",
    "\n",
    "aus_data = aus_response['daily']['data'][0]\n",
    "\n",
    "aus = {**aus_response, **aus_data}"
   ]
  },
  {
   "cell_type": "code",
   "execution_count": 101,
   "metadata": {},
   "outputs": [
    {
     "data": {
      "text/html": [
       "<div>\n",
       "<style scoped>\n",
       "    .dataframe tbody tr th:only-of-type {\n",
       "        vertical-align: middle;\n",
       "    }\n",
       "\n",
       "    .dataframe tbody tr th {\n",
       "        vertical-align: top;\n",
       "    }\n",
       "\n",
       "    .dataframe thead th {\n",
       "        text-align: right;\n",
       "    }\n",
       "</style>\n",
       "<table border=\"1\" class=\"dataframe\">\n",
       "  <thead>\n",
       "    <tr style=\"text-align: right;\">\n",
       "      <th></th>\n",
       "      <th>apparentTemperatureHigh</th>\n",
       "      <th>apparentTemperatureHighTime</th>\n",
       "      <th>apparentTemperatureLow</th>\n",
       "      <th>apparentTemperatureLowTime</th>\n",
       "      <th>apparentTemperatureMax</th>\n",
       "      <th>apparentTemperatureMaxTime</th>\n",
       "      <th>apparentTemperatureMin</th>\n",
       "      <th>apparentTemperatureMinTime</th>\n",
       "      <th>cloudCover</th>\n",
       "      <th>daily</th>\n",
       "      <th>...</th>\n",
       "      <th>temperatureMinTime</th>\n",
       "      <th>time</th>\n",
       "      <th>timezone</th>\n",
       "      <th>uvIndex</th>\n",
       "      <th>uvIndexTime</th>\n",
       "      <th>visibility</th>\n",
       "      <th>windBearing</th>\n",
       "      <th>windGust</th>\n",
       "      <th>windGustTime</th>\n",
       "      <th>windSpeed</th>\n",
       "    </tr>\n",
       "  </thead>\n",
       "  <tbody>\n",
       "    <tr>\n",
       "      <th>0</th>\n",
       "      <td>53.83</td>\n",
       "      <td>1557129600</td>\n",
       "      <td>28.86</td>\n",
       "      <td>1557183600</td>\n",
       "      <td>53.83</td>\n",
       "      <td>1557129600</td>\n",
       "      <td>26.63</td>\n",
       "      <td>1557093600</td>\n",
       "      <td>0.0</td>\n",
       "      <td>{'data': [{'time': 1557079200, 'summary': 'Cle...</td>\n",
       "      <td>...</td>\n",
       "      <td>1557097200</td>\n",
       "      <td>1557079200</td>\n",
       "      <td>Asia/Almaty</td>\n",
       "      <td>9</td>\n",
       "      <td>1557126000</td>\n",
       "      <td>10.00</td>\n",
       "      <td>85</td>\n",
       "      <td>7.51</td>\n",
       "      <td>1557158400</td>\n",
       "      <td>2.68</td>\n",
       "    </tr>\n",
       "    <tr>\n",
       "      <th>1</th>\n",
       "      <td>56.75</td>\n",
       "      <td>1557126000</td>\n",
       "      <td>29.00</td>\n",
       "      <td>1557183600</td>\n",
       "      <td>56.75</td>\n",
       "      <td>1557126000</td>\n",
       "      <td>30.98</td>\n",
       "      <td>1557154800</td>\n",
       "      <td>0.1</td>\n",
       "      <td>{'data': [{'time': 1557072000, 'summary': 'Cle...</td>\n",
       "      <td>...</td>\n",
       "      <td>1557154800</td>\n",
       "      <td>1557072000</td>\n",
       "      <td>Asia/Shanghai</td>\n",
       "      <td>15</td>\n",
       "      <td>1557118800</td>\n",
       "      <td>7.82</td>\n",
       "      <td>223</td>\n",
       "      <td>31.06</td>\n",
       "      <td>1557129600</td>\n",
       "      <td>9.80</td>\n",
       "    </tr>\n",
       "  </tbody>\n",
       "</table>\n",
       "<p>2 rows × 43 columns</p>\n",
       "</div>"
      ],
      "text/plain": [
       "   apparentTemperatureHigh  apparentTemperatureHighTime  \\\n",
       "0                    53.83                   1557129600   \n",
       "1                    56.75                   1557126000   \n",
       "\n",
       "   apparentTemperatureLow  apparentTemperatureLowTime  apparentTemperatureMax  \\\n",
       "0                   28.86                  1557183600                   53.83   \n",
       "1                   29.00                  1557183600                   56.75   \n",
       "\n",
       "   apparentTemperatureMaxTime  apparentTemperatureMin  \\\n",
       "0                  1557129600                   26.63   \n",
       "1                  1557126000                   30.98   \n",
       "\n",
       "   apparentTemperatureMinTime  cloudCover  \\\n",
       "0                  1557093600         0.0   \n",
       "1                  1557154800         0.1   \n",
       "\n",
       "                                               daily    ...      \\\n",
       "0  {'data': [{'time': 1557079200, 'summary': 'Cle...    ...       \n",
       "1  {'data': [{'time': 1557072000, 'summary': 'Cle...    ...       \n",
       "\n",
       "   temperatureMinTime        time       timezone  uvIndex  uvIndexTime  \\\n",
       "0          1557097200  1557079200    Asia/Almaty        9   1557126000   \n",
       "1          1557154800  1557072000  Asia/Shanghai       15   1557118800   \n",
       "\n",
       "   visibility  windBearing  windGust  windGustTime  windSpeed  \n",
       "0       10.00           85      7.51    1557158400       2.68  \n",
       "1        7.82          223     31.06    1557129600       9.80  \n",
       "\n",
       "[2 rows x 43 columns]"
      ]
     },
     "execution_count": 101,
     "metadata": {},
     "output_type": "execute_result"
    }
   ],
   "source": [
    "darksky_data = []\n",
    "\n",
    "darksky_data.append(cam)\n",
    "darksky_data.append(aus)\n",
    "\n",
    "darksky_df = pd.DataFrame(darksky_data)\n",
    "\n",
    "darksky_df.head()"
   ]
  },
  {
   "cell_type": "code",
   "execution_count": null,
   "metadata": {},
   "outputs": [],
   "source": []
  },
  {
   "cell_type": "code",
   "execution_count": null,
   "metadata": {},
   "outputs": [],
   "source": []
  },
  {
   "cell_type": "code",
   "execution_count": null,
   "metadata": {},
   "outputs": [],
   "source": []
  },
  {
   "cell_type": "code",
   "execution_count": null,
   "metadata": {},
   "outputs": [],
   "source": []
  }
 ],
 "metadata": {
  "kernelspec": {
   "display_name": "Python 3",
   "language": "python",
   "name": "python3"
  },
  "language_info": {
   "codemirror_mode": {
    "name": "ipython",
    "version": 3
   },
   "file_extension": ".py",
   "mimetype": "text/x-python",
   "name": "python",
   "nbconvert_exporter": "python",
   "pygments_lexer": "ipython3",
   "version": "3.7.1"
  }
 },
 "nbformat": 4,
 "nbformat_minor": 2
}
