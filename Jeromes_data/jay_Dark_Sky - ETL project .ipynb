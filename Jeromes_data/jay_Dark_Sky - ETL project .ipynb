{
 "cells": [
  {
   "cell_type": "code",
   "execution_count": 1,
   "metadata": {},
   "outputs": [],
   "source": [
    "import matplotlib.pyplot as plt\n",
    "import pandas as pd\n",
    "import numpy as np\n",
    "import os\n",
    "import json\n",
    "import requests\n",
    "import time\n",
    "import datetime"
   ]
  },
  {
   "cell_type": "markdown",
   "metadata": {},
   "source": [
    "## Work out / Convert to required Unix time"
   ]
  },
  {
   "cell_type": "code",
   "execution_count": 2,
   "metadata": {},
   "outputs": [
    {
     "data": {
      "text/plain": [
       "'2019,05,04'"
      ]
     },
     "execution_count": 2,
     "metadata": {},
     "output_type": "execute_result"
    }
   ],
   "source": [
    "date = time.strftime(\"%Y,%m,%d\")\n",
    "date"
   ]
  },
  {
   "cell_type": "code",
   "execution_count": 3,
   "metadata": {},
   "outputs": [],
   "source": [
    "from datetime import datetime"
   ]
  },
  {
   "cell_type": "code",
   "execution_count": 4,
   "metadata": {},
   "outputs": [],
   "source": [
    "dt = datetime(2019, 5, 4)"
   ]
  },
  {
   "cell_type": "code",
   "execution_count": 5,
   "metadata": {},
   "outputs": [
    {
     "data": {
      "text/plain": [
       "1556946000.0"
      ]
     },
     "execution_count": 5,
     "metadata": {},
     "output_type": "execute_result"
    }
   ],
   "source": [
    "timestamp = dt.timestamp()\n",
    "timestamp"
   ]
  },
  {
   "cell_type": "code",
   "execution_count": 6,
   "metadata": {},
   "outputs": [
    {
     "data": {
      "text/plain": [
       "'Sat May  4 00:00:00 2019'"
      ]
     },
     "execution_count": 6,
     "metadata": {},
     "output_type": "execute_result"
    }
   ],
   "source": [
    "time.ctime(int(\"1556946000\"))"
   ]
  },
  {
   "cell_type": "code",
   "execution_count": 7,
   "metadata": {},
   "outputs": [
    {
     "data": {
      "text/plain": [
       "'Sat May  5 07:00:00 2018'"
      ]
     },
     "execution_count": 7,
     "metadata": {},
     "output_type": "execute_result"
    }
   ],
   "source": [
    "time.ctime(int(\"1525521600\"))"
   ]
  },
  {
   "cell_type": "markdown",
   "metadata": {},
   "source": [
    "### As DarkSky limits to 1000 free API calls per day include a break loop to pull annual daily data"
   ]
  },
  {
   "cell_type": "code",
   "execution_count": 8,
   "metadata": {},
   "outputs": [],
   "source": [
    "days = [1493985600]\n",
    "\n",
    "count = 0\n",
    "\n",
    "for day in days:\n",
    "    \n",
    "    day = day + (24 * 60 * 60)\n",
    "    days.append(day)\n",
    "    \n",
    "    if count >=(363):\n",
    "        break\n",
    "        \n",
    "    count +=1"
   ]
  },
  {
   "cell_type": "code",
   "execution_count": 9,
   "metadata": {},
   "outputs": [
    {
     "data": {
      "text/plain": [
       "365"
      ]
     },
     "execution_count": 9,
     "metadata": {},
     "output_type": "execute_result"
    }
   ],
   "source": [
    "len(days)"
   ]
  },
  {
   "cell_type": "code",
   "execution_count": 10,
   "metadata": {},
   "outputs": [
    {
     "data": {
      "text/plain": [
       "1556971200"
      ]
     },
     "execution_count": 10,
     "metadata": {},
     "output_type": "execute_result"
    }
   ],
   "source": [
    "days[-1]"
   ]
  },
  {
   "cell_type": "code",
   "execution_count": 11,
   "metadata": {},
   "outputs": [
    {
     "data": {
      "text/plain": [
       "'Sun May  5 13:00:00 2019'"
      ]
     },
     "execution_count": 11,
     "metadata": {},
     "output_type": "execute_result"
    }
   ],
   "source": [
    "time.ctime(int(\"1557079200\"))"
   ]
  },
  {
   "cell_type": "code",
   "execution_count": 12,
   "metadata": {},
   "outputs": [
    {
     "data": {
      "text/plain": [
       "'05/04/19'"
      ]
     },
     "execution_count": 12,
     "metadata": {},
     "output_type": "execute_result"
    }
   ],
   "source": [
    "time.strftime(\"%D\", time.localtime(int(\"1556971200\")))"
   ]
  },
  {
   "cell_type": "markdown",
   "metadata": {},
   "source": [
    "## Build DarkSky Weather Query"
   ]
  },
  {
   "cell_type": "markdown",
   "metadata": {},
   "source": [
    "### Using the DarkSky API call on Copenhagen ran into problems because the data records are not consistent through the year - for example on some days the data includes cloudcover and on others not. (Including an exception pass in the for loop leaves you with a reduced data set but your total api calls still include the passed rows whch is problematic as we're limited to 1000 calls a day each). So suggest we all choose US cities - I have taken New York and Seattle."
   ]
  },
  {
   "cell_type": "code",
   "execution_count": 13,
   "metadata": {},
   "outputs": [],
   "source": [
    "# Via right clicking dropped pin in Google Maps:\n",
    "# New York lat: \"40.73\"\n",
    "# New York lon: \"-73.99\"\n",
    "# Seattle lat: \"47.605823\"\n",
    "# Seattle lon: \"-122.332315\"\n",
    "day = \"1525521600\"\n",
    "lat = \"41.508372\"\n",
    "lng = \"-71.457454\"\n",
    "key = \"d509c88f8214883b8c52438d23b51e25\"\n",
    "exclude = \"currently,flags,alerts,minutely,hourly\"\n",
    "units = \"us\"\n",
    "url = f'https://api.darksky.net/forecast/{key}/{lat},{lng}'\n",
    "#query_url = f\"{url},{day}?exclude={exclude}?units={units}\""
   ]
  },
  {
   "cell_type": "markdown",
   "metadata": {},
   "source": [
    "## Check DarkSky json response to build for loop query"
   ]
  },
  {
   "cell_type": "code",
   "execution_count": 14,
   "metadata": {},
   "outputs": [
    {
     "name": "stdout",
     "output_type": "stream",
     "text": [
      "{'latitude': 41.508372, 'longitude': -71.457454, 'timezone': 'America/New_York', 'daily': {'data': [{'time': 1525492800, 'summary': 'Partly cloudy until afternoon.', 'icon': 'partly-cloudy-day', 'sunriseTime': 1525513122, 'sunsetTime': 1525564131, 'moonPhase': 0.68, 'precipIntensity': 0, 'precipIntensityMax': 0, 'precipProbability': 0, 'temperatureHigh': 72.04, 'temperatureHighTime': 1525546800, 'temperatureLow': 55.66, 'temperatureLowTime': 1525600800, 'apparentTemperatureHigh': 72.04, 'apparentTemperatureHighTime': 1525546800, 'apparentTemperatureLow': 55.66, 'apparentTemperatureLowTime': 1525600800, 'dewPoint': 44.85, 'humidity': 0.5, 'pressure': 1014.71, 'windSpeed': 3.58, 'windGust': 15.66, 'windGustTime': 1525510800, 'windBearing': 276, 'cloudCover': 0.12, 'uvIndex': 7, 'uvIndexTime': 1525543200, 'visibility': 9.84, 'temperatureMin': 60.25, 'temperatureMinTime': 1525518000, 'temperatureMax': 72.04, 'temperatureMaxTime': 1525546800, 'apparentTemperatureMin': 60.25, 'apparentTemperatureMinTime': 1525518000, 'apparentTemperatureMax': 72.04, 'apparentTemperatureMaxTime': 1525546800}]}, 'offset': -4}\n"
     ]
    }
   ],
   "source": [
    "response = requests.get(f\"{url},{day}?exclude={exclude}?units={units}\").json()\n",
    "print(response)"
   ]
  },
  {
   "cell_type": "markdown",
   "metadata": {},
   "source": [
    "## Run DarkSky query to build list of weather for relevant city lat long"
   ]
  },
  {
   "cell_type": "code",
   "execution_count": 15,
   "metadata": {},
   "outputs": [
    {
     "name": "stdout",
     "output_type": "stream",
     "text": [
      "Beginning Data Retrieval\n",
      "-------------------------------\n",
      "Processing Record 0 day |  1525521600\n",
      "Processing Record 1 day |  1525608000\n",
      "Processing Record 2 day |  1525694400\n",
      "Processing Record 3 day |  1525780800\n",
      "Processing Record 4 day |  1525867200\n",
      "Processing Record 5 day |  1525953600\n",
      "Processing Record 6 day |  1526040000\n",
      "Processing Record 7 day |  1526126400\n",
      "Processing Record 8 day |  1526212800\n",
      "Processing Record 9 day |  1526299200\n",
      "Processing Record 10 day |  1526385600\n",
      "Processing Record 11 day |  1526472000\n",
      "Processing Record 12 day |  1526558400\n",
      "Processing Record 13 day |  1526644800\n",
      "Processing Record 14 day |  1526731200\n",
      "Processing Record 15 day |  1526817600\n",
      "Processing Record 16 day |  1526904000\n",
      "Processing Record 17 day |  1526990400\n",
      "Processing Record 18 day |  1527076800\n",
      "Processing Record 19 day |  1527163200\n",
      "Processing Record 20 day |  1527249600\n",
      "Processing Record 21 day |  1527336000\n",
      "Processing Record 22 day |  1527422400\n",
      "Processing Record 23 day |  1527508800\n",
      "Processing Record 24 day |  1527595200\n",
      "Processing Record 25 day |  1527681600\n",
      "Processing Record 26 day |  1527768000\n",
      "Processing Record 27 day |  1527854400\n",
      "Processing Record 28 day |  1527940800\n",
      "Processing Record 29 day |  1528027200\n",
      "Processing Record 30 day |  1528113600\n",
      "Processing Record 31 day |  1528200000\n",
      "Processing Record 32 day |  1528286400\n",
      "Processing Record 33 day |  1528372800\n",
      "Processing Record 34 day |  1528459200\n",
      "Processing Record 35 day |  1528545600\n",
      "Processing Record 36 day |  1528632000\n",
      "Processing Record 37 day |  1528718400\n",
      "Processing Record 38 day |  1528804800\n",
      "Processing Record 39 day |  1528891200\n",
      "Processing Record 40 day |  1528977600\n",
      "Processing Record 41 day |  1529064000\n",
      "Processing Record 42 day |  1529150400\n",
      "Processing Record 43 day |  1529236800\n",
      "Processing Record 44 day |  1529323200\n",
      "Processing Record 45 day |  1529409600\n",
      "Processing Record 46 day |  1529496000\n",
      "Processing Record 47 day |  1529582400\n",
      "Processing Record 48 day |  1529668800\n",
      "Processing Record 49 day |  1529755200\n",
      "Processing Record 50 day |  1529841600\n",
      "Processing Record 51 day |  1529928000\n",
      "Processing Record 52 day |  1530014400\n",
      "Processing Record 53 day |  1530100800\n",
      "Processing Record 54 day |  1530187200\n",
      "Processing Record 55 day |  1530273600\n",
      "Processing Record 56 day |  1530360000\n",
      "Processing Record 57 day |  1530446400\n",
      "Processing Record 58 day |  1530532800\n",
      "Processing Record 59 day |  1530619200\n",
      "Processing Record 60 day |  1530705600\n",
      "Processing Record 61 day |  1530792000\n",
      "Processing Record 62 day |  1530878400\n",
      "Processing Record 63 day |  1530964800\n",
      "Processing Record 64 day |  1531051200\n",
      "Processing Record 65 day |  1531137600\n",
      "Processing Record 66 day |  1531224000\n",
      "Processing Record 67 day |  1531310400\n",
      "Processing Record 68 day |  1531396800\n",
      "Processing Record 69 day |  1531483200\n",
      "Processing Record 70 day |  1531569600\n",
      "Processing Record 71 day |  1531656000\n",
      "Processing Record 72 day |  1531742400\n",
      "Processing Record 73 day |  1531828800\n",
      "Processing Record 74 day |  1531915200\n",
      "Processing Record 75 day |  1532001600\n",
      "Processing Record 76 day |  1532088000\n",
      "Processing Record 77 day |  1532174400\n",
      "Processing Record 78 day |  1532260800\n",
      "Processing Record 79 day |  1532347200\n",
      "Processing Record 80 day |  1532433600\n",
      "Processing Record 81 day |  1532520000\n",
      "Processing Record 82 day |  1532606400\n",
      "Processing Record 83 day |  1532692800\n",
      "Processing Record 84 day |  1532779200\n",
      "Processing Record 85 day |  1532865600\n",
      "Processing Record 86 day |  1532952000\n",
      "Processing Record 87 day |  1533038400\n",
      "Processing Record 88 day |  1533124800\n",
      "Processing Record 89 day |  1533211200\n",
      "Processing Record 90 day |  1533297600\n",
      "Processing Record 91 day |  1533384000\n",
      "Processing Record 92 day |  1533470400\n",
      "Processing Record 93 day |  1533556800\n",
      "Processing Record 94 day |  1533643200\n",
      "Processing Record 95 day |  1533729600\n",
      "Processing Record 96 day |  1533816000\n",
      "Processing Record 97 day |  1533902400\n",
      "Processing Record 98 day |  1533988800\n",
      "Processing Record 99 day |  1534075200\n",
      "Processing Record 100 day |  1534161600\n",
      "Processing Record 101 day |  1534248000\n",
      "Processing Record 102 day |  1534334400\n",
      "Processing Record 103 day |  1534420800\n",
      "Processing Record 104 day |  1534507200\n",
      "Processing Record 105 day |  1534593600\n",
      "Processing Record 106 day |  1534680000\n",
      "Processing Record 107 day |  1534766400\n",
      "Processing Record 108 day |  1534852800\n",
      "Processing Record 109 day |  1534939200\n",
      "Processing Record 110 day |  1535025600\n",
      "Processing Record 111 day |  1535112000\n",
      "Processing Record 112 day |  1535198400\n",
      "Processing Record 113 day |  1535284800\n",
      "Processing Record 114 day |  1535371200\n",
      "Processing Record 115 day |  1535457600\n",
      "Processing Record 116 day |  1535544000\n",
      "Processing Record 117 day |  1535630400\n",
      "Processing Record 118 day |  1535716800\n",
      "Processing Record 119 day |  1535803200\n",
      "Processing Record 120 day |  1535889600\n",
      "Processing Record 121 day |  1535976000\n",
      "Processing Record 122 day |  1536062400\n",
      "Processing Record 123 day |  1536148800\n",
      "Processing Record 124 day |  1536235200\n",
      "Processing Record 125 day |  1536321600\n",
      "Processing Record 126 day |  1536408000\n",
      "Processing Record 127 day |  1536494400\n",
      "Processing Record 128 day |  1536580800\n",
      "Processing Record 129 day |  1536667200\n",
      "Processing Record 130 day |  1536753600\n",
      "Processing Record 131 day |  1536840000\n",
      "Processing Record 132 day |  1536926400\n",
      "Processing Record 133 day |  1537012800\n",
      "Processing Record 134 day |  1537099200\n",
      "Processing Record 135 day |  1537185600\n",
      "Processing Record 136 day |  1537272000\n",
      "Processing Record 137 day |  1537358400\n",
      "Processing Record 138 day |  1537444800\n",
      "Processing Record 139 day |  1537531200\n",
      "Processing Record 140 day |  1537617600\n",
      "Processing Record 141 day |  1537704000\n",
      "Processing Record 142 day |  1537790400\n",
      "Processing Record 143 day |  1537876800\n",
      "Processing Record 144 day |  1537963200\n",
      "Processing Record 145 day |  1538049600\n",
      "Processing Record 146 day |  1538136000\n",
      "Processing Record 147 day |  1538222400\n",
      "Processing Record 148 day |  1538308800\n",
      "Processing Record 149 day |  1538395200\n",
      "Processing Record 150 day |  1538481600\n",
      "Processing Record 151 day |  1538568000\n",
      "Processing Record 152 day |  1538654400\n",
      "Processing Record 153 day |  1538740800\n",
      "Processing Record 154 day |  1538827200\n",
      "Processing Record 155 day |  1538913600\n",
      "Processing Record 156 day |  1539000000\n",
      "Processing Record 157 day |  1539086400\n",
      "Processing Record 158 day |  1539172800\n",
      "Processing Record 159 day |  1539259200\n",
      "Processing Record 160 day |  1539345600\n",
      "Processing Record 161 day |  1539432000\n",
      "Processing Record 162 day |  1539518400\n",
      "Processing Record 163 day |  1539604800\n",
      "Processing Record 164 day |  1539691200\n",
      "Processing Record 165 day |  1539777600\n",
      "Processing Record 166 day |  1539864000\n",
      "Processing Record 167 day |  1539950400\n",
      "Processing Record 168 day |  1540036800\n",
      "Processing Record 169 day |  1540123200\n",
      "Processing Record 170 day |  1540209600\n",
      "Processing Record 171 day |  1540296000\n",
      "Processing Record 172 day |  1540382400\n",
      "Processing Record 173 day |  1540468800\n",
      "Processing Record 174 day |  1540555200\n",
      "Processing Record 175 day |  1540641600\n",
      "Processing Record 176 day |  1540728000\n",
      "Processing Record 177 day |  1540814400\n",
      "Processing Record 178 day |  1540900800\n",
      "Processing Record 179 day |  1540987200\n",
      "Processing Record 180 day |  1541073600\n",
      "Processing Record 181 day |  1541160000\n",
      "Processing Record 182 day |  1541246400\n",
      "Processing Record 183 day |  1541332800\n",
      "Processing Record 184 day |  1541419200\n",
      "Processing Record 185 day |  1541505600\n",
      "Processing Record 186 day |  1541592000\n",
      "Processing Record 187 day |  1541678400\n",
      "Processing Record 188 day |  1541764800\n",
      "Processing Record 189 day |  1541851200\n",
      "Processing Record 190 day |  1541937600\n",
      "Processing Record 191 day |  1542024000\n",
      "Processing Record 192 day |  1542110400\n",
      "Processing Record 193 day |  1542196800\n",
      "Processing Record 194 day |  1542283200\n",
      "Processing Record 195 day |  1542369600\n",
      "Processing Record 196 day |  1542456000\n",
      "Processing Record 197 day |  1542542400\n",
      "Processing Record 198 day |  1542628800\n",
      "Processing Record 199 day |  1542715200\n",
      "Processing Record 200 day |  1542801600\n",
      "Processing Record 201 day |  1542888000\n",
      "Processing Record 202 day |  1542974400\n",
      "Processing Record 203 day |  1543060800\n",
      "Processing Record 204 day |  1543147200\n",
      "Processing Record 205 day |  1543233600\n",
      "Processing Record 206 day |  1543320000\n"
     ]
    },
    {
     "name": "stdout",
     "output_type": "stream",
     "text": [
      "Processing Record 207 day |  1543406400\n",
      "Processing Record 208 day |  1543492800\n",
      "Processing Record 209 day |  1543579200\n",
      "Processing Record 210 day |  1543665600\n",
      "Processing Record 211 day |  1543752000\n",
      "Processing Record 212 day |  1543838400\n",
      "Processing Record 213 day |  1543924800\n",
      "Processing Record 214 day |  1544011200\n",
      "Processing Record 215 day |  1544097600\n",
      "Processing Record 216 day |  1544184000\n",
      "Processing Record 217 day |  1544270400\n",
      "Processing Record 218 day |  1544356800\n",
      "Processing Record 219 day |  1544443200\n",
      "Processing Record 220 day |  1544529600\n",
      "Processing Record 221 day |  1544616000\n",
      "Processing Record 222 day |  1544702400\n",
      "Processing Record 223 day |  1544788800\n",
      "Processing Record 224 day |  1544875200\n",
      "Processing Record 225 day |  1544961600\n",
      "Processing Record 226 day |  1545048000\n",
      "Processing Record 227 day |  1545134400\n",
      "Processing Record 228 day |  1545220800\n",
      "Processing Record 229 day |  1545307200\n",
      "Processing Record 230 day |  1545393600\n",
      "Processing Record 231 day |  1545480000\n",
      "Processing Record 232 day |  1545566400\n",
      "Processing Record 233 day |  1545652800\n",
      "Processing Record 234 day |  1545739200\n",
      "Processing Record 235 day |  1545825600\n",
      "Processing Record 236 day |  1545912000\n",
      "Processing Record 237 day |  1545998400\n",
      "Processing Record 238 day |  1546084800\n",
      "Processing Record 239 day |  1546171200\n",
      "Processing Record 240 day |  1546257600\n",
      "Processing Record 241 day |  1546344000\n",
      "Processing Record 242 day |  1546430400\n",
      "Processing Record 243 day |  1546516800\n",
      "Processing Record 244 day |  1546603200\n",
      "Processing Record 245 day |  1546689600\n",
      "Processing Record 246 day |  1546776000\n",
      "Processing Record 247 day |  1546862400\n",
      "Processing Record 248 day |  1546948800\n",
      "Processing Record 249 day |  1547035200\n",
      "Processing Record 250 day |  1547121600\n",
      "Processing Record 251 day |  1547208000\n",
      "Processing Record 252 day |  1547294400\n",
      "Processing Record 253 day |  1547380800\n",
      "Processing Record 254 day |  1547467200\n",
      "Processing Record 255 day |  1547553600\n",
      "Processing Record 256 day |  1547640000\n",
      "Processing Record 257 day |  1547726400\n",
      "Processing Record 258 day |  1547812800\n",
      "Processing Record 259 day |  1547899200\n",
      "Processing Record 260 day |  1547985600\n",
      "Processing Record 261 day |  1548072000\n",
      "Processing Record 262 day |  1548158400\n",
      "Processing Record 263 day |  1548244800\n",
      "Processing Record 264 day |  1548331200\n",
      "Processing Record 265 day |  1548417600\n",
      "Processing Record 266 day |  1548504000\n",
      "Processing Record 267 day |  1548590400\n",
      "Processing Record 268 day |  1548676800\n",
      "Processing Record 269 day |  1548763200\n",
      "Processing Record 270 day |  1548849600\n",
      "Processing Record 271 day |  1548936000\n",
      "Processing Record 272 day |  1549022400\n",
      "Processing Record 273 day |  1549108800\n",
      "Processing Record 274 day |  1549195200\n",
      "Processing Record 275 day |  1549281600\n",
      "Processing Record 276 day |  1549368000\n",
      "Processing Record 277 day |  1549454400\n",
      "Processing Record 278 day |  1549540800\n",
      "Processing Record 279 day |  1549627200\n",
      "Processing Record 280 day |  1549713600\n",
      "Processing Record 281 day |  1549800000\n",
      "Processing Record 282 day |  1549886400\n",
      "Processing Record 283 day |  1549972800\n",
      "Processing Record 284 day |  1550059200\n",
      "Processing Record 285 day |  1550145600\n",
      "Processing Record 286 day |  1550232000\n",
      "Processing Record 287 day |  1550318400\n",
      "Processing Record 288 day |  1550404800\n",
      "Processing Record 289 day |  1550491200\n",
      "Processing Record 290 day |  1550577600\n",
      "Processing Record 291 day |  1550664000\n",
      "Processing Record 292 day |  1550750400\n",
      "Processing Record 293 day |  1550836800\n",
      "Processing Record 294 day |  1550923200\n",
      "Processing Record 295 day |  1551009600\n",
      "Processing Record 296 day |  1551096000\n",
      "Processing Record 297 day |  1551182400\n",
      "Processing Record 298 day |  1551268800\n",
      "Processing Record 299 day |  1551355200\n",
      "Processing Record 300 day |  1551441600\n",
      "Processing Record 301 day |  1551528000\n",
      "Processing Record 302 day |  1551614400\n",
      "Processing Record 303 day |  1551700800\n",
      "Processing Record 304 day |  1551787200\n",
      "Processing Record 305 day |  1551873600\n",
      "Processing Record 306 day |  1551960000\n",
      "Processing Record 307 day |  1552046400\n",
      "Processing Record 308 day |  1552132800\n",
      "Processing Record 309 day |  1552219200\n",
      "Processing Record 310 day |  1552305600\n",
      "Processing Record 311 day |  1552392000\n",
      "Processing Record 312 day |  1552478400\n",
      "Processing Record 313 day |  1552564800\n",
      "Processing Record 314 day |  1552651200\n",
      "Processing Record 315 day |  1552737600\n",
      "Processing Record 316 day |  1552824000\n",
      "Processing Record 317 day |  1552910400\n",
      "Processing Record 318 day |  1552996800\n",
      "Processing Record 319 day |  1553083200\n",
      "Processing Record 320 day |  1553169600\n",
      "Processing Record 321 day |  1553256000\n",
      "Processing Record 322 day |  1553342400\n",
      "Processing Record 323 day |  1553428800\n",
      "Processing Record 324 day |  1553515200\n",
      "Processing Record 325 day |  1553601600\n",
      "Processing Record 326 day |  1553688000\n",
      "Processing Record 327 day |  1553774400\n",
      "Processing Record 328 day |  1553860800\n",
      "Processing Record 329 day |  1553947200\n",
      "Processing Record 330 day |  1554033600\n",
      "Processing Record 331 day |  1554120000\n",
      "Processing Record 332 day |  1554206400\n",
      "Processing Record 333 day |  1554292800\n",
      "Processing Record 334 day |  1554379200\n",
      "Processing Record 335 day |  1554465600\n",
      "Processing Record 336 day |  1554552000\n",
      "Processing Record 337 day |  1554638400\n",
      "Processing Record 338 day |  1554724800\n",
      "Processing Record 339 day |  1554811200\n",
      "Processing Record 340 day |  1554897600\n",
      "Processing Record 341 day |  1554984000\n",
      "Processing Record 342 day |  1555070400\n",
      "Processing Record 343 day |  1555156800\n",
      "Processing Record 344 day |  1555243200\n",
      "Processing Record 345 day |  1555329600\n",
      "Processing Record 346 day |  1555416000\n",
      "Processing Record 347 day |  1555502400\n",
      "Processing Record 348 day |  1555588800\n",
      "Processing Record 349 day |  1555675200\n",
      "Processing Record 350 day |  1555761600\n",
      "Processing Record 351 day |  1555848000\n",
      "Processing Record 352 day |  1555934400\n",
      "Processing Record 353 day |  1556020800\n",
      "Processing Record 354 day |  1556107200\n",
      "Processing Record 355 day |  1556193600\n",
      "Processing Record 356 day |  1556280000\n",
      "Processing Record 357 day |  1556366400\n",
      "Processing Record 358 day |  1556452800\n",
      "Processing Record 359 day |  1556539200\n",
      "Processing Record 360 day |  1556625600\n",
      "Processing Record 361 day |  1556712000\n",
      "Processing Record 362 day |  1556798400\n",
      "Processing Record 363 day |  1556884800\n",
      "Processing Record 364 day |  1556971200\n",
      "-------------------------------\n",
      "Data Retrieval Complete\n",
      "-------------------------------\n"
     ]
    }
   ],
   "source": [
    "darksky_data_1 = []\n",
    "\n",
    "count = 0\n",
    "\n",
    "\n",
    "print(\"Beginning Data Retrieval\")\n",
    "print(\"-------------------------------\")\n",
    "\n",
    "for day in days:\n",
    "        response = requests.get(f\"{url},{day}?exclude={exclude}?units={units}\").json()\n",
    "        darksky_data_1.append({'Day' : day,\n",
    "                               'Summary' : response['daily']['data'][0]['summary'],\n",
    "                               'Detail' : response['daily']['data'][0]['icon'],\n",
    "                               'Sunrise' : response['daily']['data'][0]['sunriseTime'],\n",
    "                               'Sunset' : response['daily']['data'][0]['sunsetTime'],\n",
    "                               'Moonphase' : response['daily']['data'][0]['moonPhase'],\n",
    "                               'precipIntensity' : response['daily']['data'][0]['precipIntensity'],\n",
    "                               'precipIntensityMax' : response['daily']['data'][0]['precipIntensityMax'],\n",
    "                               'precipProbability' : response['daily']['data'][0]['precipProbability'],\n",
    "                               'temperatureMax' : response['daily']['data'][0]['temperatureMax'],\n",
    "                               'temperatureMaxTime' : response['daily']['data'][0]['temperatureMaxTime'],\n",
    "                               'temperatureMin' : response['daily']['data'][0]['temperatureMin'],\n",
    "                               'temperatureMinTime' : response['daily']['data'][0]['temperatureMinTime'],\n",
    "                               'dewPoint' : response['daily']['data'][0]['dewPoint'],\n",
    "                               'humidity' : response['daily']['data'][0]['humidity'],\n",
    "                               'pressure' : response['daily']['data'][0]['pressure'],\n",
    "                               'windSpeed' : response['daily']['data'][0]['windSpeed'],\n",
    "                               'windGust' : response['daily']['data'][0]['windGust'],\n",
    "                               'windGustTime' : response['daily']['data'][0]['windGustTime'],\n",
    "                               'cloudCover' : response['daily']['data'][0]['cloudCover'],\n",
    "                               'visibility' : response['daily']['data'][0]['visibility']})\n",
    "      \n",
    "    \n",
    "        print(\"Processing Record\", count, \"day\" ' | ' , day)\n",
    "    \n",
    "        count +=1\n",
    "    \n",
    "print(\"-------------------------------\")\n",
    "print(\"Data Retrieval Complete\")\n",
    "print(\"-------------------------------\")"
   ]
  },
  {
   "cell_type": "markdown",
   "metadata": {},
   "source": [
    "## Chk data query worked and make dataframe"
   ]
  },
  {
   "cell_type": "code",
   "execution_count": null,
   "metadata": {},
   "outputs": [],
   "source": [
    "#darksky_data_1"
   ]
  },
  {
   "cell_type": "code",
   "execution_count": 16,
   "metadata": {},
   "outputs": [
    {
     "data": {
      "text/plain": [
       "67.25"
      ]
     },
     "execution_count": 16,
     "metadata": {},
     "output_type": "execute_result"
    }
   ],
   "source": [
    "darksky_data_1[2]['temperatureMax']"
   ]
  },
  {
   "cell_type": "code",
   "execution_count": 17,
   "metadata": {},
   "outputs": [
    {
     "data": {
      "text/html": [
       "<div>\n",
       "<style scoped>\n",
       "    .dataframe tbody tr th:only-of-type {\n",
       "        vertical-align: middle;\n",
       "    }\n",
       "\n",
       "    .dataframe tbody tr th {\n",
       "        vertical-align: top;\n",
       "    }\n",
       "\n",
       "    .dataframe thead th {\n",
       "        text-align: right;\n",
       "    }\n",
       "</style>\n",
       "<table border=\"1\" class=\"dataframe\">\n",
       "  <thead>\n",
       "    <tr style=\"text-align: right;\">\n",
       "      <th></th>\n",
       "      <th>Day</th>\n",
       "      <th>Detail</th>\n",
       "      <th>Moonphase</th>\n",
       "      <th>Summary</th>\n",
       "      <th>Sunrise</th>\n",
       "      <th>Sunset</th>\n",
       "      <th>cloudCover</th>\n",
       "      <th>dewPoint</th>\n",
       "      <th>humidity</th>\n",
       "      <th>precipIntensity</th>\n",
       "      <th>...</th>\n",
       "      <th>precipProbability</th>\n",
       "      <th>pressure</th>\n",
       "      <th>temperatureMax</th>\n",
       "      <th>temperatureMaxTime</th>\n",
       "      <th>temperatureMin</th>\n",
       "      <th>temperatureMinTime</th>\n",
       "      <th>visibility</th>\n",
       "      <th>windGust</th>\n",
       "      <th>windGustTime</th>\n",
       "      <th>windSpeed</th>\n",
       "    </tr>\n",
       "  </thead>\n",
       "  <tbody>\n",
       "    <tr>\n",
       "      <th>0</th>\n",
       "      <td>1525521600</td>\n",
       "      <td>partly-cloudy-day</td>\n",
       "      <td>0.68</td>\n",
       "      <td>Partly cloudy until afternoon.</td>\n",
       "      <td>1525513122</td>\n",
       "      <td>1525564131</td>\n",
       "      <td>0.12</td>\n",
       "      <td>44.85</td>\n",
       "      <td>0.50</td>\n",
       "      <td>0.0000</td>\n",
       "      <td>...</td>\n",
       "      <td>0.00</td>\n",
       "      <td>1014.71</td>\n",
       "      <td>72.04</td>\n",
       "      <td>1525546800</td>\n",
       "      <td>60.25</td>\n",
       "      <td>1525518000</td>\n",
       "      <td>9.84</td>\n",
       "      <td>15.66</td>\n",
       "      <td>1525510800</td>\n",
       "      <td>3.58</td>\n",
       "    </tr>\n",
       "    <tr>\n",
       "      <th>1</th>\n",
       "      <td>1525608000</td>\n",
       "      <td>rain</td>\n",
       "      <td>0.71</td>\n",
       "      <td>Light rain starting in the afternoon, continui...</td>\n",
       "      <td>1525599450</td>\n",
       "      <td>1525650596</td>\n",
       "      <td>0.90</td>\n",
       "      <td>48.97</td>\n",
       "      <td>0.76</td>\n",
       "      <td>0.0037</td>\n",
       "      <td>...</td>\n",
       "      <td>0.89</td>\n",
       "      <td>1015.46</td>\n",
       "      <td>60.50</td>\n",
       "      <td>1525579200</td>\n",
       "      <td>52.81</td>\n",
       "      <td>1525662000</td>\n",
       "      <td>9.49</td>\n",
       "      <td>10.93</td>\n",
       "      <td>1525636800</td>\n",
       "      <td>0.69</td>\n",
       "    </tr>\n",
       "    <tr>\n",
       "      <th>2</th>\n",
       "      <td>1525694400</td>\n",
       "      <td>partly-cloudy-day</td>\n",
       "      <td>0.74</td>\n",
       "      <td>Mostly cloudy until afternoon.</td>\n",
       "      <td>1525685780</td>\n",
       "      <td>1525737060</td>\n",
       "      <td>0.41</td>\n",
       "      <td>50.94</td>\n",
       "      <td>0.80</td>\n",
       "      <td>0.0003</td>\n",
       "      <td>...</td>\n",
       "      <td>0.64</td>\n",
       "      <td>1017.29</td>\n",
       "      <td>67.25</td>\n",
       "      <td>1525719600</td>\n",
       "      <td>50.85</td>\n",
       "      <td>1525680000</td>\n",
       "      <td>9.14</td>\n",
       "      <td>9.56</td>\n",
       "      <td>1525723200</td>\n",
       "      <td>1.24</td>\n",
       "    </tr>\n",
       "    <tr>\n",
       "      <th>3</th>\n",
       "      <td>1525780800</td>\n",
       "      <td>fog</td>\n",
       "      <td>0.77</td>\n",
       "      <td>Foggy overnight.</td>\n",
       "      <td>1525772111</td>\n",
       "      <td>1525823524</td>\n",
       "      <td>0.34</td>\n",
       "      <td>47.67</td>\n",
       "      <td>0.77</td>\n",
       "      <td>0.0000</td>\n",
       "      <td>...</td>\n",
       "      <td>0.00</td>\n",
       "      <td>1024.19</td>\n",
       "      <td>67.28</td>\n",
       "      <td>1525809600</td>\n",
       "      <td>45.49</td>\n",
       "      <td>1525773600</td>\n",
       "      <td>6.50</td>\n",
       "      <td>7.59</td>\n",
       "      <td>1525813200</td>\n",
       "      <td>1.13</td>\n",
       "    </tr>\n",
       "    <tr>\n",
       "      <th>4</th>\n",
       "      <td>1525867200</td>\n",
       "      <td>fog</td>\n",
       "      <td>0.80</td>\n",
       "      <td>Foggy in the morning.</td>\n",
       "      <td>1525858443</td>\n",
       "      <td>1525909987</td>\n",
       "      <td>0.54</td>\n",
       "      <td>49.09</td>\n",
       "      <td>0.79</td>\n",
       "      <td>0.0000</td>\n",
       "      <td>...</td>\n",
       "      <td>0.00</td>\n",
       "      <td>1021.37</td>\n",
       "      <td>68.68</td>\n",
       "      <td>1525892400</td>\n",
       "      <td>45.58</td>\n",
       "      <td>1525860000</td>\n",
       "      <td>7.07</td>\n",
       "      <td>8.11</td>\n",
       "      <td>1525892400</td>\n",
       "      <td>1.39</td>\n",
       "    </tr>\n",
       "  </tbody>\n",
       "</table>\n",
       "<p>5 rows × 21 columns</p>\n",
       "</div>"
      ],
      "text/plain": [
       "          Day             Detail  Moonphase  \\\n",
       "0  1525521600  partly-cloudy-day       0.68   \n",
       "1  1525608000               rain       0.71   \n",
       "2  1525694400  partly-cloudy-day       0.74   \n",
       "3  1525780800                fog       0.77   \n",
       "4  1525867200                fog       0.80   \n",
       "\n",
       "                                             Summary     Sunrise      Sunset  \\\n",
       "0                     Partly cloudy until afternoon.  1525513122  1525564131   \n",
       "1  Light rain starting in the afternoon, continui...  1525599450  1525650596   \n",
       "2                     Mostly cloudy until afternoon.  1525685780  1525737060   \n",
       "3                                   Foggy overnight.  1525772111  1525823524   \n",
       "4                              Foggy in the morning.  1525858443  1525909987   \n",
       "\n",
       "   cloudCover  dewPoint  humidity  precipIntensity    ...      \\\n",
       "0        0.12     44.85      0.50           0.0000    ...       \n",
       "1        0.90     48.97      0.76           0.0037    ...       \n",
       "2        0.41     50.94      0.80           0.0003    ...       \n",
       "3        0.34     47.67      0.77           0.0000    ...       \n",
       "4        0.54     49.09      0.79           0.0000    ...       \n",
       "\n",
       "   precipProbability  pressure  temperatureMax  temperatureMaxTime  \\\n",
       "0               0.00   1014.71           72.04          1525546800   \n",
       "1               0.89   1015.46           60.50          1525579200   \n",
       "2               0.64   1017.29           67.25          1525719600   \n",
       "3               0.00   1024.19           67.28          1525809600   \n",
       "4               0.00   1021.37           68.68          1525892400   \n",
       "\n",
       "   temperatureMin  temperatureMinTime  visibility  windGust  windGustTime  \\\n",
       "0           60.25          1525518000        9.84     15.66    1525510800   \n",
       "1           52.81          1525662000        9.49     10.93    1525636800   \n",
       "2           50.85          1525680000        9.14      9.56    1525723200   \n",
       "3           45.49          1525773600        6.50      7.59    1525813200   \n",
       "4           45.58          1525860000        7.07      8.11    1525892400   \n",
       "\n",
       "   windSpeed  \n",
       "0       3.58  \n",
       "1       0.69  \n",
       "2       1.24  \n",
       "3       1.13  \n",
       "4       1.39  \n",
       "\n",
       "[5 rows x 21 columns]"
      ]
     },
     "execution_count": 17,
     "metadata": {},
     "output_type": "execute_result"
    }
   ],
   "source": [
    "darksky_data_1_df = pd.DataFrame(darksky_data_1)\n",
    "darksky_data_1_df.head()"
   ]
  },
  {
   "cell_type": "code",
   "execution_count": 18,
   "metadata": {},
   "outputs": [
    {
     "data": {
      "text/plain": [
       "365"
      ]
     },
     "execution_count": 18,
     "metadata": {},
     "output_type": "execute_result"
    }
   ],
   "source": [
    "len(darksky_data_1_df)"
   ]
  },
  {
   "cell_type": "markdown",
   "metadata": {},
   "source": [
    "## Write dataframe to csv"
   ]
  },
  {
   "cell_type": "code",
   "execution_count": null,
   "metadata": {},
   "outputs": [],
   "source": [
    "# make folder called output_data in current directory"
   ]
  },
  {
   "cell_type": "code",
   "execution_count": 19,
   "metadata": {},
   "outputs": [],
   "source": [
    "darksky_data_1_df.to_csv(\"rhode_iland.csv\", index = False, header = True)"
   ]
  },
  {
   "cell_type": "code",
   "execution_count": null,
   "metadata": {},
   "outputs": [],
   "source": [
    "# Remember to save output csv as xls so its preserved"
   ]
  }
 ],
 "metadata": {
  "kernelspec": {
   "display_name": "Python 3",
   "language": "python",
   "name": "python3"
  },
  "language_info": {
   "codemirror_mode": {
    "name": "ipython",
    "version": 3
   },
   "file_extension": ".py",
   "mimetype": "text/x-python",
   "name": "python",
   "nbconvert_exporter": "python",
   "pygments_lexer": "ipython3",
   "version": "3.7.1"
  }
 },
 "nbformat": 4,
 "nbformat_minor": 2
}
